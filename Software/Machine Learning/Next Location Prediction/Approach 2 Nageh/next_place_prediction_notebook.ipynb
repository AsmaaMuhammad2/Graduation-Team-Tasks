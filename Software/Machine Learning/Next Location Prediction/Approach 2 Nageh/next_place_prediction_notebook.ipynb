{
  "metadata": {
    "kernelspec": {
      "language": "python",
      "display_name": "Python 3",
      "name": "python3"
    },
    "language_info": {
      "name": "python",
      "version": "3.10.14",
      "mimetype": "text/x-python",
      "codemirror_mode": {
        "name": "ipython",
        "version": 3
      },
      "pygments_lexer": "ipython3",
      "nbconvert_exporter": "python",
      "file_extension": ".py"
    },
    "kaggle": {
      "accelerator": "none",
      "dataSources": [
        {
          "sourceId": 9322222,
          "sourceType": "datasetVersion",
          "datasetId": 5647021
        }
      ],
      "dockerImageVersionId": 30761,
      "isInternetEnabled": false,
      "language": "python",
      "sourceType": "notebook",
      "isGpuEnabled": false
    },
    "colab": {
      "provenance": []
    }
  },
  "nbformat_minor": 0,
  "nbformat": 4,
  "cells": [
    {
      "cell_type": "markdown",
      "source": [
        "## Importing the necessary libraries & loading the dataset"
      ],
      "metadata": {
        "id": "HJ3RitiAj73x"
      }
    },
    {
      "cell_type": "code",
      "source": [
        "import numpy as np\n",
        "import pandas as pd\n",
        "from matplotlib import pyplot as plt\n",
        "%matplotlib inline\n",
        "from sklearn.cluster import KMeans\n",
        "from sklearn.preprocessing import MinMaxScaler\n",
        "\n",
        "from google.colab import drive\n",
        "drive.mount('/content/drive')\n",
        "\n",
        "dataset_pathname = 'drive/MyDrive/dataset.xlsx'"
      ],
      "metadata": {
        "id": "BOPKHoqAyC7A",
        "colab": {
          "base_uri": "https://localhost:8080/"
        },
        "outputId": "f7fc6aec-2d8a-4c3d-d385-afe6d01f5426"
      },
      "execution_count": 51,
      "outputs": [
        {
          "output_type": "stream",
          "name": "stdout",
          "text": [
            "Drive already mounted at /content/drive; to attempt to forcibly remount, call drive.mount(\"/content/drive\", force_remount=True).\n"
          ]
        }
      ]
    },
    {
      "cell_type": "markdown",
      "source": [
        "## Reading the dataset"
      ],
      "metadata": {
        "id": "yhwAyH0wj3tx"
      }
    },
    {
      "cell_type": "code",
      "source": [
        "df = pd.read_excel(dataset_pathname)\n",
        "df.head()"
      ],
      "metadata": {
        "execution": {
          "iopub.status.busy": "2024-09-05T06:02:01.238521Z",
          "iopub.execute_input": "2024-09-05T06:02:01.239797Z"
        },
        "trusted": true,
        "id": "b4Me_cMBx-Py",
        "colab": {
          "base_uri": "https://localhost:8080/",
          "height": 206
        },
        "outputId": "d40511e0-83dd-4d26-953c-eea3fa0d0b34"
      },
      "execution_count": 52,
      "outputs": [
        {
          "output_type": "execute_result",
          "data": {
            "text/plain": [
              "   person_name                       event_ts                  location\n",
              "0  7_1_0032247  2024-08-28 13:22:50.781355+00  ['25.268293, 55.297596']\n",
              "1  3_3_0105341  2024-08-28 13:22:36.407468+00  ['25.268017, 55.297518']\n",
              "2  3_3_0103424  2024-08-28 13:22:39.372381+00  ['25.271235, 55.301078']\n",
              "3  4_3_0114500  2024-08-28 13:23:00.928218+00   ['25.267324, 55.29629']\n",
              "4  9_2_0073534  2024-08-28 13:25:31.105655+00  ['25.271488, 55.305731']"
            ],
            "text/html": [
              "\n",
              "  <div id=\"df-6f72a222-4920-4a6d-8c94-a8164338effa\" class=\"colab-df-container\">\n",
              "    <div>\n",
              "<style scoped>\n",
              "    .dataframe tbody tr th:only-of-type {\n",
              "        vertical-align: middle;\n",
              "    }\n",
              "\n",
              "    .dataframe tbody tr th {\n",
              "        vertical-align: top;\n",
              "    }\n",
              "\n",
              "    .dataframe thead th {\n",
              "        text-align: right;\n",
              "    }\n",
              "</style>\n",
              "<table border=\"1\" class=\"dataframe\">\n",
              "  <thead>\n",
              "    <tr style=\"text-align: right;\">\n",
              "      <th></th>\n",
              "      <th>person_name</th>\n",
              "      <th>event_ts</th>\n",
              "      <th>location</th>\n",
              "    </tr>\n",
              "  </thead>\n",
              "  <tbody>\n",
              "    <tr>\n",
              "      <th>0</th>\n",
              "      <td>7_1_0032247</td>\n",
              "      <td>2024-08-28 13:22:50.781355+00</td>\n",
              "      <td>['25.268293, 55.297596']</td>\n",
              "    </tr>\n",
              "    <tr>\n",
              "      <th>1</th>\n",
              "      <td>3_3_0105341</td>\n",
              "      <td>2024-08-28 13:22:36.407468+00</td>\n",
              "      <td>['25.268017, 55.297518']</td>\n",
              "    </tr>\n",
              "    <tr>\n",
              "      <th>2</th>\n",
              "      <td>3_3_0103424</td>\n",
              "      <td>2024-08-28 13:22:39.372381+00</td>\n",
              "      <td>['25.271235, 55.301078']</td>\n",
              "    </tr>\n",
              "    <tr>\n",
              "      <th>3</th>\n",
              "      <td>4_3_0114500</td>\n",
              "      <td>2024-08-28 13:23:00.928218+00</td>\n",
              "      <td>['25.267324, 55.29629']</td>\n",
              "    </tr>\n",
              "    <tr>\n",
              "      <th>4</th>\n",
              "      <td>9_2_0073534</td>\n",
              "      <td>2024-08-28 13:25:31.105655+00</td>\n",
              "      <td>['25.271488, 55.305731']</td>\n",
              "    </tr>\n",
              "  </tbody>\n",
              "</table>\n",
              "</div>\n",
              "    <div class=\"colab-df-buttons\">\n",
              "\n",
              "  <div class=\"colab-df-container\">\n",
              "    <button class=\"colab-df-convert\" onclick=\"convertToInteractive('df-6f72a222-4920-4a6d-8c94-a8164338effa')\"\n",
              "            title=\"Convert this dataframe to an interactive table.\"\n",
              "            style=\"display:none;\">\n",
              "\n",
              "  <svg xmlns=\"http://www.w3.org/2000/svg\" height=\"24px\" viewBox=\"0 -960 960 960\">\n",
              "    <path d=\"M120-120v-720h720v720H120Zm60-500h600v-160H180v160Zm220 220h160v-160H400v160Zm0 220h160v-160H400v160ZM180-400h160v-160H180v160Zm440 0h160v-160H620v160ZM180-180h160v-160H180v160Zm440 0h160v-160H620v160Z\"/>\n",
              "  </svg>\n",
              "    </button>\n",
              "\n",
              "  <style>\n",
              "    .colab-df-container {\n",
              "      display:flex;\n",
              "      gap: 12px;\n",
              "    }\n",
              "\n",
              "    .colab-df-convert {\n",
              "      background-color: #E8F0FE;\n",
              "      border: none;\n",
              "      border-radius: 50%;\n",
              "      cursor: pointer;\n",
              "      display: none;\n",
              "      fill: #1967D2;\n",
              "      height: 32px;\n",
              "      padding: 0 0 0 0;\n",
              "      width: 32px;\n",
              "    }\n",
              "\n",
              "    .colab-df-convert:hover {\n",
              "      background-color: #E2EBFA;\n",
              "      box-shadow: 0px 1px 2px rgba(60, 64, 67, 0.3), 0px 1px 3px 1px rgba(60, 64, 67, 0.15);\n",
              "      fill: #174EA6;\n",
              "    }\n",
              "\n",
              "    .colab-df-buttons div {\n",
              "      margin-bottom: 4px;\n",
              "    }\n",
              "\n",
              "    [theme=dark] .colab-df-convert {\n",
              "      background-color: #3B4455;\n",
              "      fill: #D2E3FC;\n",
              "    }\n",
              "\n",
              "    [theme=dark] .colab-df-convert:hover {\n",
              "      background-color: #434B5C;\n",
              "      box-shadow: 0px 1px 3px 1px rgba(0, 0, 0, 0.15);\n",
              "      filter: drop-shadow(0px 1px 2px rgba(0, 0, 0, 0.3));\n",
              "      fill: #FFFFFF;\n",
              "    }\n",
              "  </style>\n",
              "\n",
              "    <script>\n",
              "      const buttonEl =\n",
              "        document.querySelector('#df-6f72a222-4920-4a6d-8c94-a8164338effa button.colab-df-convert');\n",
              "      buttonEl.style.display =\n",
              "        google.colab.kernel.accessAllowed ? 'block' : 'none';\n",
              "\n",
              "      async function convertToInteractive(key) {\n",
              "        const element = document.querySelector('#df-6f72a222-4920-4a6d-8c94-a8164338effa');\n",
              "        const dataTable =\n",
              "          await google.colab.kernel.invokeFunction('convertToInteractive',\n",
              "                                                    [key], {});\n",
              "        if (!dataTable) return;\n",
              "\n",
              "        const docLinkHtml = 'Like what you see? Visit the ' +\n",
              "          '<a target=\"_blank\" href=https://colab.research.google.com/notebooks/data_table.ipynb>data table notebook</a>'\n",
              "          + ' to learn more about interactive tables.';\n",
              "        element.innerHTML = '';\n",
              "        dataTable['output_type'] = 'display_data';\n",
              "        await google.colab.output.renderOutput(dataTable, element);\n",
              "        const docLink = document.createElement('div');\n",
              "        docLink.innerHTML = docLinkHtml;\n",
              "        element.appendChild(docLink);\n",
              "      }\n",
              "    </script>\n",
              "  </div>\n",
              "\n",
              "\n",
              "<div id=\"df-9aa80606-c978-4ab3-bfe1-6276990c78f3\">\n",
              "  <button class=\"colab-df-quickchart\" onclick=\"quickchart('df-9aa80606-c978-4ab3-bfe1-6276990c78f3')\"\n",
              "            title=\"Suggest charts\"\n",
              "            style=\"display:none;\">\n",
              "\n",
              "<svg xmlns=\"http://www.w3.org/2000/svg\" height=\"24px\"viewBox=\"0 0 24 24\"\n",
              "     width=\"24px\">\n",
              "    <g>\n",
              "        <path d=\"M19 3H5c-1.1 0-2 .9-2 2v14c0 1.1.9 2 2 2h14c1.1 0 2-.9 2-2V5c0-1.1-.9-2-2-2zM9 17H7v-7h2v7zm4 0h-2V7h2v10zm4 0h-2v-4h2v4z\"/>\n",
              "    </g>\n",
              "</svg>\n",
              "  </button>\n",
              "\n",
              "<style>\n",
              "  .colab-df-quickchart {\n",
              "      --bg-color: #E8F0FE;\n",
              "      --fill-color: #1967D2;\n",
              "      --hover-bg-color: #E2EBFA;\n",
              "      --hover-fill-color: #174EA6;\n",
              "      --disabled-fill-color: #AAA;\n",
              "      --disabled-bg-color: #DDD;\n",
              "  }\n",
              "\n",
              "  [theme=dark] .colab-df-quickchart {\n",
              "      --bg-color: #3B4455;\n",
              "      --fill-color: #D2E3FC;\n",
              "      --hover-bg-color: #434B5C;\n",
              "      --hover-fill-color: #FFFFFF;\n",
              "      --disabled-bg-color: #3B4455;\n",
              "      --disabled-fill-color: #666;\n",
              "  }\n",
              "\n",
              "  .colab-df-quickchart {\n",
              "    background-color: var(--bg-color);\n",
              "    border: none;\n",
              "    border-radius: 50%;\n",
              "    cursor: pointer;\n",
              "    display: none;\n",
              "    fill: var(--fill-color);\n",
              "    height: 32px;\n",
              "    padding: 0;\n",
              "    width: 32px;\n",
              "  }\n",
              "\n",
              "  .colab-df-quickchart:hover {\n",
              "    background-color: var(--hover-bg-color);\n",
              "    box-shadow: 0 1px 2px rgba(60, 64, 67, 0.3), 0 1px 3px 1px rgba(60, 64, 67, 0.15);\n",
              "    fill: var(--button-hover-fill-color);\n",
              "  }\n",
              "\n",
              "  .colab-df-quickchart-complete:disabled,\n",
              "  .colab-df-quickchart-complete:disabled:hover {\n",
              "    background-color: var(--disabled-bg-color);\n",
              "    fill: var(--disabled-fill-color);\n",
              "    box-shadow: none;\n",
              "  }\n",
              "\n",
              "  .colab-df-spinner {\n",
              "    border: 2px solid var(--fill-color);\n",
              "    border-color: transparent;\n",
              "    border-bottom-color: var(--fill-color);\n",
              "    animation:\n",
              "      spin 1s steps(1) infinite;\n",
              "  }\n",
              "\n",
              "  @keyframes spin {\n",
              "    0% {\n",
              "      border-color: transparent;\n",
              "      border-bottom-color: var(--fill-color);\n",
              "      border-left-color: var(--fill-color);\n",
              "    }\n",
              "    20% {\n",
              "      border-color: transparent;\n",
              "      border-left-color: var(--fill-color);\n",
              "      border-top-color: var(--fill-color);\n",
              "    }\n",
              "    30% {\n",
              "      border-color: transparent;\n",
              "      border-left-color: var(--fill-color);\n",
              "      border-top-color: var(--fill-color);\n",
              "      border-right-color: var(--fill-color);\n",
              "    }\n",
              "    40% {\n",
              "      border-color: transparent;\n",
              "      border-right-color: var(--fill-color);\n",
              "      border-top-color: var(--fill-color);\n",
              "    }\n",
              "    60% {\n",
              "      border-color: transparent;\n",
              "      border-right-color: var(--fill-color);\n",
              "    }\n",
              "    80% {\n",
              "      border-color: transparent;\n",
              "      border-right-color: var(--fill-color);\n",
              "      border-bottom-color: var(--fill-color);\n",
              "    }\n",
              "    90% {\n",
              "      border-color: transparent;\n",
              "      border-bottom-color: var(--fill-color);\n",
              "    }\n",
              "  }\n",
              "</style>\n",
              "\n",
              "  <script>\n",
              "    async function quickchart(key) {\n",
              "      const quickchartButtonEl =\n",
              "        document.querySelector('#' + key + ' button');\n",
              "      quickchartButtonEl.disabled = true;  // To prevent multiple clicks.\n",
              "      quickchartButtonEl.classList.add('colab-df-spinner');\n",
              "      try {\n",
              "        const charts = await google.colab.kernel.invokeFunction(\n",
              "            'suggestCharts', [key], {});\n",
              "      } catch (error) {\n",
              "        console.error('Error during call to suggestCharts:', error);\n",
              "      }\n",
              "      quickchartButtonEl.classList.remove('colab-df-spinner');\n",
              "      quickchartButtonEl.classList.add('colab-df-quickchart-complete');\n",
              "    }\n",
              "    (() => {\n",
              "      let quickchartButtonEl =\n",
              "        document.querySelector('#df-9aa80606-c978-4ab3-bfe1-6276990c78f3 button');\n",
              "      quickchartButtonEl.style.display =\n",
              "        google.colab.kernel.accessAllowed ? 'block' : 'none';\n",
              "    })();\n",
              "  </script>\n",
              "</div>\n",
              "\n",
              "    </div>\n",
              "  </div>\n"
            ],
            "application/vnd.google.colaboratory.intrinsic+json": {
              "type": "dataframe",
              "variable_name": "df"
            }
          },
          "metadata": {},
          "execution_count": 52
        }
      ]
    },
    {
      "cell_type": "markdown",
      "source": [
        "## Processing person_name column"
      ],
      "metadata": {
        "id": "3S_MazHI1xFn"
      }
    },
    {
      "cell_type": "code",
      "source": [
        "df = df[[row['person_name'][0].isdigit() for index, row in df.iterrows()]]\n",
        "\n",
        "repetitions = df['person_name'].value_counts()\n",
        "df = df[df['person_name'].isin(repetitions[repetitions > 10].index)]\n",
        "\n",
        "id_offset = 100\n",
        "person_id_mapping = {person_id: (i+1) * id_offset for i, person_id in enumerate(df['person_name'].unique())}\n",
        "df['person_id'] = df['person_name'].map(person_id_mapping)\n",
        "\n",
        "print(df)"
      ],
      "metadata": {
        "id": "agGo41fA14ar",
        "colab": {
          "base_uri": "https://localhost:8080/"
        },
        "outputId": "517afb0f-aaba-471b-806d-e1d2269c2a8a"
      },
      "execution_count": 53,
      "outputs": [
        {
          "output_type": "stream",
          "name": "stdout",
          "text": [
            "         person_name                       event_ts  \\\n",
            "1        3_3_0105341  2024-08-28 13:22:36.407468+00   \n",
            "3        4_3_0114500  2024-08-28 13:23:00.928218+00   \n",
            "8        5_4_0133360  2024-08-28 13:25:07.715962+00   \n",
            "9        6_2_0063919  2024-08-28 13:24:50.050432+00   \n",
            "10       4_0_0004856  2024-08-28 13:24:58.409205+00   \n",
            "...              ...                            ...   \n",
            "1048565  7_2_0087470  2024-08-02 14:22:12.115407+00   \n",
            "1048567  0_4_0147563  2024-08-02 14:22:33.476957+00   \n",
            "1048568  3_1_0057163  2024-08-02 14:24:16.419702+00   \n",
            "1048569  2_0_0003529  2024-08-02 14:24:29.301376+00   \n",
            "1048574  3_5_0178908  2024-08-02 14:28:08.351395+00   \n",
            "\n",
            "                             location  person_id  \n",
            "1            ['25.268017, 55.297518']        100  \n",
            "3             ['25.267324, 55.29629']        200  \n",
            "8        ['25.27135433, 55.30545345']        300  \n",
            "9            ['25.271341, 55.301739']        400  \n",
            "10           ['25.271352, 55.302019']        500  \n",
            "...                               ...        ...  \n",
            "1048565      ['25.268471, 55.296825']      94300  \n",
            "1048567      ['25.270839, 55.297978']    1708100  \n",
            "1048568      ['25.270839, 55.297978']     699500  \n",
            "1048569       ['25.267324, 55.29629']     324700  \n",
            "1048574      ['25.270983, 55.298039']     881000  \n",
            "\n",
            "[489831 rows x 4 columns]\n"
          ]
        },
        {
          "output_type": "stream",
          "name": "stderr",
          "text": [
            "<ipython-input-53-116869f312f1>:8: SettingWithCopyWarning: \n",
            "A value is trying to be set on a copy of a slice from a DataFrame.\n",
            "Try using .loc[row_indexer,col_indexer] = value instead\n",
            "\n",
            "See the caveats in the documentation: https://pandas.pydata.org/pandas-docs/stable/user_guide/indexing.html#returning-a-view-versus-a-copy\n",
            "  df['person_id'] = df['person_name'].map(person_id_mapping)\n"
          ]
        }
      ]
    },
    {
      "cell_type": "markdown",
      "source": [
        "## Formatting event_ts *column*"
      ],
      "metadata": {
        "id": "pWEoce4Qx-Py"
      }
    },
    {
      "cell_type": "code",
      "source": [
        "event_date = df['event_ts'].str.split(\" \", expand=True)[0]\n",
        "df[['year', \"month\", \"day\"]] = event_date.str.split(\"-\", expand=True).apply(pd.to_numeric)\n",
        "\n",
        "event_timestamp = df['event_ts'].str.split(\" \", expand=True)[1]\n",
        "event_time = event_timestamp.str.split('+', expand=True)[0]\n",
        "\n",
        "df[['hours', 'minutes', 'seconds']] = event_time.str.split(\":\", expand=True).apply(pd.to_numeric)\n",
        "df['time_zone'] = event_timestamp.str.split('+', expand=True)[1].apply(pd.to_numeric)\n",
        "\n",
        "print(df)"
      ],
      "metadata": {
        "execution": {
          "iopub.status.busy": "2024-09-05T06:01:50.317354Z",
          "iopub.execute_input": "2024-09-05T06:01:50.317714Z",
          "iopub.status.idle": "2024-09-05T06:01:58.152858Z",
          "shell.execute_reply.started": "2024-09-05T06:01:50.317676Z",
          "shell.execute_reply": "2024-09-05T06:01:58.151094Z"
        },
        "trusted": true,
        "id": "eCd2gzLdx-P0",
        "colab": {
          "base_uri": "https://localhost:8080/"
        },
        "outputId": "6bd93fee-9a1e-432a-f461-3b1bb1e46256"
      },
      "execution_count": 54,
      "outputs": [
        {
          "output_type": "stream",
          "name": "stdout",
          "text": [
            "         person_name                       event_ts  \\\n",
            "1        3_3_0105341  2024-08-28 13:22:36.407468+00   \n",
            "3        4_3_0114500  2024-08-28 13:23:00.928218+00   \n",
            "8        5_4_0133360  2024-08-28 13:25:07.715962+00   \n",
            "9        6_2_0063919  2024-08-28 13:24:50.050432+00   \n",
            "10       4_0_0004856  2024-08-28 13:24:58.409205+00   \n",
            "...              ...                            ...   \n",
            "1048565  7_2_0087470  2024-08-02 14:22:12.115407+00   \n",
            "1048567  0_4_0147563  2024-08-02 14:22:33.476957+00   \n",
            "1048568  3_1_0057163  2024-08-02 14:24:16.419702+00   \n",
            "1048569  2_0_0003529  2024-08-02 14:24:29.301376+00   \n",
            "1048574  3_5_0178908  2024-08-02 14:28:08.351395+00   \n",
            "\n",
            "                             location  person_id  year  month  day  hours  \\\n",
            "1            ['25.268017, 55.297518']        100  2024      8   28     13   \n",
            "3             ['25.267324, 55.29629']        200  2024      8   28     13   \n",
            "8        ['25.27135433, 55.30545345']        300  2024      8   28     13   \n",
            "9            ['25.271341, 55.301739']        400  2024      8   28     13   \n",
            "10           ['25.271352, 55.302019']        500  2024      8   28     13   \n",
            "...                               ...        ...   ...    ...  ...    ...   \n",
            "1048565      ['25.268471, 55.296825']      94300  2024      8    2     14   \n",
            "1048567      ['25.270839, 55.297978']    1708100  2024      8    2     14   \n",
            "1048568      ['25.270839, 55.297978']     699500  2024      8    2     14   \n",
            "1048569       ['25.267324, 55.29629']     324700  2024      8    2     14   \n",
            "1048574      ['25.270983, 55.298039']     881000  2024      8    2     14   \n",
            "\n",
            "         minutes    seconds  time_zone  \n",
            "1             22  36.407468          0  \n",
            "3             23   0.928218          0  \n",
            "8             25   7.715962          0  \n",
            "9             24  50.050432          0  \n",
            "10            24  58.409205          0  \n",
            "...          ...        ...        ...  \n",
            "1048565       22  12.115407          0  \n",
            "1048567       22  33.476957          0  \n",
            "1048568       24  16.419702          0  \n",
            "1048569       24  29.301376          0  \n",
            "1048574       28   8.351395          0  \n",
            "\n",
            "[489831 rows x 11 columns]\n"
          ]
        }
      ]
    },
    {
      "cell_type": "markdown",
      "source": [
        "## Formatting location column"
      ],
      "metadata": {
        "id": "1hFCS8mf0KjW"
      }
    },
    {
      "cell_type": "code",
      "source": [
        "latitude = df['location'].str.split(', ', expand=True)[0]\n",
        "longitude = df['location'].str.split(', ', expand=True)[1]\n",
        "\n",
        "df['latitude'] = latitude.str[2:].apply(pd.to_numeric)\n",
        "df['longitude'] = longitude.str[:-2].apply(pd.to_numeric)\n",
        "\n",
        "print(df)"
      ],
      "metadata": {
        "id": "QrWCfkoNx-P1",
        "colab": {
          "base_uri": "https://localhost:8080/"
        },
        "outputId": "fd3ca51b-60da-4e59-d399-c3407fdbd5a8"
      },
      "execution_count": 55,
      "outputs": [
        {
          "output_type": "stream",
          "name": "stdout",
          "text": [
            "         person_name                       event_ts  \\\n",
            "1        3_3_0105341  2024-08-28 13:22:36.407468+00   \n",
            "3        4_3_0114500  2024-08-28 13:23:00.928218+00   \n",
            "8        5_4_0133360  2024-08-28 13:25:07.715962+00   \n",
            "9        6_2_0063919  2024-08-28 13:24:50.050432+00   \n",
            "10       4_0_0004856  2024-08-28 13:24:58.409205+00   \n",
            "...              ...                            ...   \n",
            "1048565  7_2_0087470  2024-08-02 14:22:12.115407+00   \n",
            "1048567  0_4_0147563  2024-08-02 14:22:33.476957+00   \n",
            "1048568  3_1_0057163  2024-08-02 14:24:16.419702+00   \n",
            "1048569  2_0_0003529  2024-08-02 14:24:29.301376+00   \n",
            "1048574  3_5_0178908  2024-08-02 14:28:08.351395+00   \n",
            "\n",
            "                             location  person_id  year  month  day  hours  \\\n",
            "1            ['25.268017, 55.297518']        100  2024      8   28     13   \n",
            "3             ['25.267324, 55.29629']        200  2024      8   28     13   \n",
            "8        ['25.27135433, 55.30545345']        300  2024      8   28     13   \n",
            "9            ['25.271341, 55.301739']        400  2024      8   28     13   \n",
            "10           ['25.271352, 55.302019']        500  2024      8   28     13   \n",
            "...                               ...        ...   ...    ...  ...    ...   \n",
            "1048565      ['25.268471, 55.296825']      94300  2024      8    2     14   \n",
            "1048567      ['25.270839, 55.297978']    1708100  2024      8    2     14   \n",
            "1048568      ['25.270839, 55.297978']     699500  2024      8    2     14   \n",
            "1048569       ['25.267324, 55.29629']     324700  2024      8    2     14   \n",
            "1048574      ['25.270983, 55.298039']     881000  2024      8    2     14   \n",
            "\n",
            "         minutes    seconds  time_zone   latitude  longitude  \n",
            "1             22  36.407468          0  25.268017  55.297518  \n",
            "3             23   0.928218          0  25.267324  55.296290  \n",
            "8             25   7.715962          0  25.271354  55.305453  \n",
            "9             24  50.050432          0  25.271341  55.301739  \n",
            "10            24  58.409205          0  25.271352  55.302019  \n",
            "...          ...        ...        ...        ...        ...  \n",
            "1048565       22  12.115407          0  25.268471  55.296825  \n",
            "1048567       22  33.476957          0  25.270839  55.297978  \n",
            "1048568       24  16.419702          0  25.270839  55.297978  \n",
            "1048569       24  29.301376          0  25.267324  55.296290  \n",
            "1048574       28   8.351395          0  25.270983  55.298039  \n",
            "\n",
            "[489831 rows x 13 columns]\n"
          ]
        }
      ]
    },
    {
      "cell_type": "markdown",
      "source": [
        "## Dropping unneeded columns\n",
        "\n",
        "#### **After some exploration for the dataset we noticed that**\n",
        "\n",
        "- The ``year`` and the ``time_zone`` columns have the same value in all rows so we decided to not include them in the processed dataset\n",
        "- The ``minutes`` column is also no crucial for our use case\n",
        "- The ``seconds`` columns has so many values, is easily prone to errors and is not a key factor for our desired result so we will get rid of it as well"
      ],
      "metadata": {
        "id": "Yd2XBee95wsv"
      }
    },
    {
      "cell_type": "code",
      "source": [
        "df.nunique()"
      ],
      "metadata": {
        "id": "gGCXPtxD8Ivg",
        "colab": {
          "base_uri": "https://localhost:8080/",
          "height": 491
        },
        "outputId": "e5d2fd2c-7474-4111-9d7a-26c42cf2247c"
      },
      "execution_count": 56,
      "outputs": [
        {
          "output_type": "execute_result",
          "data": {
            "text/plain": [
              "person_name     17824\n",
              "event_ts       489830\n",
              "location           85\n",
              "person_id       17824\n",
              "year                1\n",
              "month               3\n",
              "day                 8\n",
              "hours              24\n",
              "minutes            60\n",
              "seconds        487856\n",
              "time_zone           1\n",
              "latitude           85\n",
              "longitude          85\n",
              "dtype: int64"
            ],
            "text/html": [
              "<div>\n",
              "<style scoped>\n",
              "    .dataframe tbody tr th:only-of-type {\n",
              "        vertical-align: middle;\n",
              "    }\n",
              "\n",
              "    .dataframe tbody tr th {\n",
              "        vertical-align: top;\n",
              "    }\n",
              "\n",
              "    .dataframe thead th {\n",
              "        text-align: right;\n",
              "    }\n",
              "</style>\n",
              "<table border=\"1\" class=\"dataframe\">\n",
              "  <thead>\n",
              "    <tr style=\"text-align: right;\">\n",
              "      <th></th>\n",
              "      <th>0</th>\n",
              "    </tr>\n",
              "  </thead>\n",
              "  <tbody>\n",
              "    <tr>\n",
              "      <th>person_name</th>\n",
              "      <td>17824</td>\n",
              "    </tr>\n",
              "    <tr>\n",
              "      <th>event_ts</th>\n",
              "      <td>489830</td>\n",
              "    </tr>\n",
              "    <tr>\n",
              "      <th>location</th>\n",
              "      <td>85</td>\n",
              "    </tr>\n",
              "    <tr>\n",
              "      <th>person_id</th>\n",
              "      <td>17824</td>\n",
              "    </tr>\n",
              "    <tr>\n",
              "      <th>year</th>\n",
              "      <td>1</td>\n",
              "    </tr>\n",
              "    <tr>\n",
              "      <th>month</th>\n",
              "      <td>3</td>\n",
              "    </tr>\n",
              "    <tr>\n",
              "      <th>day</th>\n",
              "      <td>8</td>\n",
              "    </tr>\n",
              "    <tr>\n",
              "      <th>hours</th>\n",
              "      <td>24</td>\n",
              "    </tr>\n",
              "    <tr>\n",
              "      <th>minutes</th>\n",
              "      <td>60</td>\n",
              "    </tr>\n",
              "    <tr>\n",
              "      <th>seconds</th>\n",
              "      <td>487856</td>\n",
              "    </tr>\n",
              "    <tr>\n",
              "      <th>time_zone</th>\n",
              "      <td>1</td>\n",
              "    </tr>\n",
              "    <tr>\n",
              "      <th>latitude</th>\n",
              "      <td>85</td>\n",
              "    </tr>\n",
              "    <tr>\n",
              "      <th>longitude</th>\n",
              "      <td>85</td>\n",
              "    </tr>\n",
              "  </tbody>\n",
              "</table>\n",
              "</div><br><label><b>dtype:</b> int64</label>"
            ]
          },
          "metadata": {},
          "execution_count": 56
        }
      ]
    },
    {
      "cell_type": "code",
      "source": [
        "columns_to_drop = df.filter(regex=\"event_ts|location|person_name|year|time_zone|seconds|minutes\", axis=1)\n",
        "df = df.drop(columns_to_drop.columns, axis=1)"
      ],
      "metadata": {
        "id": "vp9hvhc9z87Z"
      },
      "execution_count": 57,
      "outputs": []
    },
    {
      "cell_type": "markdown",
      "source": [
        "## Assuring no null values exist in the dataset"
      ],
      "metadata": {
        "id": "jtNfBxy3jJlk"
      }
    },
    {
      "cell_type": "code",
      "source": [
        "df.dropna(inplace=True)\n",
        "\n",
        "print(df)"
      ],
      "metadata": {
        "id": "8fWbV6Mx27dF",
        "colab": {
          "base_uri": "https://localhost:8080/"
        },
        "outputId": "b7fc5322-2e94-41fe-b9ca-a6e136843a08"
      },
      "execution_count": 58,
      "outputs": [
        {
          "output_type": "stream",
          "name": "stdout",
          "text": [
            "         person_id  month  day  hours   latitude  longitude\n",
            "1              100      8   28     13  25.268017  55.297518\n",
            "3              200      8   28     13  25.267324  55.296290\n",
            "8              300      8   28     13  25.271354  55.305453\n",
            "9              400      8   28     13  25.271341  55.301739\n",
            "10             500      8   28     13  25.271352  55.302019\n",
            "...            ...    ...  ...    ...        ...        ...\n",
            "1048565      94300      8    2     14  25.268471  55.296825\n",
            "1048567    1708100      8    2     14  25.270839  55.297978\n",
            "1048568     699500      8    2     14  25.270839  55.297978\n",
            "1048569     324700      8    2     14  25.267324  55.296290\n",
            "1048574     881000      8    2     14  25.270983  55.298039\n",
            "\n",
            "[489831 rows x 6 columns]\n"
          ]
        }
      ]
    },
    {
      "cell_type": "markdown",
      "source": [
        "## Normalizing the data"
      ],
      "metadata": {
        "id": "fZdkdniM5qv_"
      }
    },
    {
      "cell_type": "code",
      "source": [
        "def normalize(data):\n",
        "  min = data.min()\n",
        "  max = data.max()\n",
        "\n",
        "  return (data - min) / (max - min)\n",
        "\n",
        "for col in df.columns:\n",
        "  df[col] = normalize(df[col])\n",
        "\n",
        "print(df)"
      ],
      "metadata": {
        "id": "SC9Ngyw-3ojq",
        "colab": {
          "base_uri": "https://localhost:8080/"
        },
        "outputId": "0bf57840-9126-40ea-cc0a-6ebf7ccfcc5f"
      },
      "execution_count": 59,
      "outputs": [
        {
          "output_type": "stream",
          "name": "stdout",
          "text": [
            "         person_id  month       day     hours  latitude  longitude\n",
            "1         0.000000    0.5  0.900000  0.565217  0.158442   0.144030\n",
            "3         0.000056    0.5  0.900000  0.565217  0.030916   0.034446\n",
            "8         0.000112    0.5  0.900000  0.565217  0.772583   0.852173\n",
            "9         0.000168    0.5  0.900000  0.565217  0.770130   0.520703\n",
            "10        0.000224    0.5  0.900000  0.565217  0.772154   0.545690\n",
            "...            ...    ...       ...       ...       ...        ...\n",
            "1048565   0.052853    0.5  0.033333  0.608696  0.241988   0.082188\n",
            "1048567   0.958312    0.5  0.033333  0.608696  0.677751   0.185079\n",
            "1048568   0.392414    0.5  0.033333  0.608696  0.677751   0.185079\n",
            "1048569   0.182124    0.5  0.033333  0.608696  0.030916   0.034446\n",
            "1048574   0.494249    0.5  0.033333  0.608696  0.704250   0.190523\n",
            "\n",
            "[489831 rows x 6 columns]\n"
          ]
        }
      ]
    },
    {
      "cell_type": "markdown",
      "source": [
        "\n",
        "## Clustering latitude and longitude\n",
        "\n",
        "By plotting the relation between latitude and longitude we notice that we can cluster them into locations for more accuracy"
      ],
      "metadata": {
        "id": "MLXZByPTosJz"
      }
    },
    {
      "cell_type": "code",
      "source": [
        "fig, axs = plt.subplots(1,2, figsize=(12, 4))\n",
        "axs[0].scatter(df['latitude'], df['longitude'])\n",
        "axs[0].set_title('The relation between latitude and longitude')\n",
        "\n",
        "n_clusters = 10\n",
        "cluster = KMeans(n_clusters)\n",
        "location_cluster = cluster.fit_predict(df[['latitude', 'longitude']])\n",
        "\n",
        "df['location_cluster'] = location_cluster\n",
        "\n",
        "colors = ['red', 'green', 'black', 'orange', 'blue', 'gray', 'cyan', 'pink', 'purple', 'yellow']\n",
        "\n",
        "for i in range(0, n_clusters):\n",
        "  df_plot = df[df['location_cluster'] == i]\n",
        "  axs[1].scatter(df_plot['latitude'], df_plot['longitude'], color=colors[i])\n",
        "\n",
        "axs[1].set_title('Data after clustering')"
      ],
      "metadata": {
        "colab": {
          "base_uri": "https://localhost:8080/",
          "height": 416
        },
        "id": "HlAFwZQ1or7r",
        "outputId": "7ae15de1-4943-419d-c9ab-06c3001b6a18"
      },
      "execution_count": 60,
      "outputs": [
        {
          "output_type": "stream",
          "name": "stderr",
          "text": [
            "/usr/local/lib/python3.10/dist-packages/sklearn/cluster/_kmeans.py:1416: FutureWarning: The default value of `n_init` will change from 10 to 'auto' in 1.4. Set the value of `n_init` explicitly to suppress the warning\n",
            "  super()._check_params_vs_input(X, default_n_init=10)\n"
          ]
        },
        {
          "output_type": "execute_result",
          "data": {
            "text/plain": [
              "Text(0.5, 1.0, 'Data after clustering')"
            ]
          },
          "metadata": {},
          "execution_count": 60
        },
        {
          "output_type": "display_data",
          "data": {
            "text/plain": [
              "<Figure size 1200x400 with 2 Axes>"
            ],
            "image/png": "[encoded data removed]"
          },
          "metadata": {}
        }
      ]
    },
    {
      "cell_type": "markdown",
      "source": [
        "## Normalizing the location_cluster column\n",
        "Transforming the ``location_cluster`` to a form suitable for machine learning and dropping the ``latitude`` and ``longitude`` columns"
      ],
      "metadata": {
        "id": "MAKQLkMQ8cXL"
      }
    },
    {
      "cell_type": "code",
      "source": [
        "df['location_cluster'] = normalize(df['location_cluster'])\n",
        "df = df.drop(df[['latitude', 'longitude']], axis=1)\n",
        "\n",
        "print(df)"
      ],
      "metadata": {
        "colab": {
          "base_uri": "https://localhost:8080/"
        },
        "id": "s7usFD6O8cHq",
        "outputId": "ddca7ca6-a9de-4476-a006-4205cc83f0ad"
      },
      "execution_count": 61,
      "outputs": [
        {
          "output_type": "stream",
          "name": "stdout",
          "text": [
            "         person_id  month       day     hours  location_cluster\n",
            "1         0.000000    0.5  0.900000  0.565217          0.555556\n",
            "3         0.000056    0.5  0.900000  0.565217          0.777778\n",
            "8         0.000112    0.5  0.900000  0.565217          0.000000\n",
            "9         0.000168    0.5  0.900000  0.565217          0.222222\n",
            "10        0.000224    0.5  0.900000  0.565217          0.222222\n",
            "...            ...    ...       ...       ...               ...\n",
            "1048565   0.052853    0.5  0.033333  0.608696          0.555556\n",
            "1048567   0.958312    0.5  0.033333  0.608696          0.333333\n",
            "1048568   0.392414    0.5  0.033333  0.608696          0.333333\n",
            "1048569   0.182124    0.5  0.033333  0.608696          0.777778\n",
            "1048574   0.494249    0.5  0.033333  0.608696          0.333333\n",
            "\n",
            "[489831 rows x 5 columns]\n"
          ]
        }
      ]
    },
    {
      "cell_type": "markdown",
      "source": [
        "## writing the result in an excel file"
      ],
      "metadata": {
        "id": "s7nt7G3emgXb"
      }
    },
    {
      "cell_type": "code",
      "source": [
        "df.to_excel(r'./processed-dataset.xlsx', index=None)"
      ],
      "metadata": {
        "id": "PIAnLikxjZnY"
      },
      "execution_count": 62,
      "outputs": []
    },
    {
      "cell_type": "code",
      "source": [],
      "metadata": {
        "id": "VzEdVTIU9zZ1"
      },
      "execution_count": null,
      "outputs": []
    }
  ]
}